{
 "cells": [
  {
   "cell_type": "code",
   "execution_count": 3,
   "metadata": {},
   "outputs": [],
   "source": [
    "import json\n",
    "import faiss\n",
    "import numpy as np\n",
    "from sentence_transformers import SentenceTransformer\n",
    "from transformers import GPT2LMHeadModel, GPT2Tokenizer"
   ]
  },
  {
   "cell_type": "markdown",
   "metadata": {},
   "source": [
    "The following code is for model preparation. I chose the `all-MiniLM-L6-v2` model because of its balance between computational efficiency and embedding quality. For response generation, I needed a larger model, so I chose GPT-2, since I could run it locally and it can (somewhat) handle the task. Due to hardware limitations, I could not use models larger than GPT-2."
   ]
  },
  {
   "cell_type": "code",
   "execution_count": 4,
   "metadata": {},
   "outputs": [],
   "source": [
    "with open(\"preprocessed_data/preprocessed_results_with_metadata.json\", \"r\") as f:\n",
    "    data = json.load(f)\n",
    "\n",
    "text_model = SentenceTransformer(\"sentence-transformers/all-MiniLM-L6-v2\")\n",
    "gpt2_model = GPT2LMHeadModel.from_pretrained(\"gpt2\")\n",
    "gpt2_tokenizer = GPT2Tokenizer.from_pretrained(\"gpt2\")\n",
    "gpt2_tokenizer.pad_token = gpt2_tokenizer.eos_token"
   ]
  },
  {
   "cell_type": "markdown",
   "metadata": {},
   "source": [
    "The next code block prepares the text embeddings and vectorizes them using the FAISS (Facebook AI Similarity Search) index. The 384 dimentionality was chosen because it matches the output size of the `all-MiniLM-L6-v2` model, which is a 384 dimensional dense vector space. It can be adjusted based on what sentence transformer model is being used."
   ]
  },
  {
   "cell_type": "code",
   "execution_count": 5,
   "metadata": {},
   "outputs": [],
   "source": [
    "index = faiss.IndexFlatL2(384)\n",
    "embeddings = []\n",
    "metadata = []\n",
    "\n",
    "for doc in data:\n",
    "    text_embedding = text_model.encode(doc[\"text\"], convert_to_tensor=True)\n",
    "    embeddings.append(text_embedding.detach().numpy())\n",
    "    metadata.append(doc)\n",
    "\n",
    "index.add(np.vstack(embeddings))"
   ]
  },
  {
   "cell_type": "markdown",
   "metadata": {},
   "source": [
    "The following code handles the search and response generation. The `search` function is meant to return the top K most relevant documents based on vector representation similarity in the FAISS index. The response generation is mostly standard, except for `max_length`, which could be arbitrary, however in this case, it's set to 250 for error handling. Since the requirements wants only 1 response containing all the necessary information,`num_return_sequences` is set to 1. The rest is for printing the response."
   ]
  },
  {
   "cell_type": "code",
   "execution_count": 13,
   "metadata": {},
   "outputs": [],
   "source": [
    "def search(query, top_k=5):\n",
    "    embedding = text_model.encode(query, convert_to_tensor=True).detach().numpy()\n",
    "    distances, indices = index.search(embedding.reshape(1, -1), top_k)\n",
    "    results = [metadata[i] for i in indices[0]]\n",
    "\n",
    "    return results\n",
    "\n",
    "def response_gen(prompt):\n",
    "    inputs = gpt2_tokenizer(prompt, return_tensors=\"pt\", padding=True, truncation=True)\n",
    "    outputs = gpt2_model.generate(\n",
    "        inputs.input_ids,\n",
    "        attention_mask=inputs.attention_mask,\n",
    "        max_length=250,\n",
    "        num_return_sequences=1,\n",
    "        pad_token_id=gpt2_tokenizer.eos_token_id\n",
    "    )\n",
    "    return gpt2_tokenizer.decode(outputs[0], skip_special_tokens=True)\n",
    "\n",
    "def querying(query):\n",
    "    results = search(query)\n",
    "    top_docs = \"\\n\".join([f\"{i['title']} - {i['link']}\" for i in results])\n",
    "\n",
    "    prompt = f\"Based on the following documents, answer the query:\\n{top_docs}\\n\\nQuery: {query}\\n\\nAnswer: \"\n",
    "    response = response_gen(prompt)\n",
    "\n",
    "    return {\n",
    "        \"response\": response,\n",
    "        \"top_documents\": [{\n",
    "            \"title\": i[\"title\"],\n",
    "            \"link\": i[\"link\"],\n",
    "            \"snippet\": i[\"text\"][:200]\n",
    "        } for i in results]\n",
    "    }\n",
    "\n",
    "\n",
    "def print_response(query):\n",
    "    result = querying(query)\n",
    "    print(\"Response:\", result[\"response\"])\n",
    "    print(\"Top Documents:\")\n",
    "    for doc in result[\"top_documents\"]:\n",
    "        print(f\"- {doc['title']} ({doc['link']})\\n  Snippet: {doc['snippet']}\\n\")"
   ]
  },
  {
   "cell_type": "markdown",
   "metadata": {},
   "source": [
    "The model can be queried as follows:"
   ]
  },
  {
   "cell_type": "code",
   "execution_count": 12,
   "metadata": {},
   "outputs": [
    {
     "name": "stdout",
     "output_type": "stream",
     "text": [
      "Response: Based on the following documents, answer the query:\n",
      "Detection technologies and recent developments in the diagnosis of COVID-19 infection - https://pubmed.ncbi.nlm.nih.gov/33394144/\n",
      "Effectiveness of COVID-19 diagnosis and management tools: A review - https://pubmed.ncbi.nlm.nih.gov/33008761/\n",
      "Integrated control of COVID-19 in resource-poor countries - https://pubmed.ncbi.nlm.nih.gov/32916249/\n",
      "Emerging COVID-19 variants and their impact on SARS-CoV-2 diagnosis, therapeutics and vaccines - https://pubmed.ncbi.nlm.nih.gov/35132910/\n",
      "Advancements in detection of SARS-CoV-2 infection for confronting COVID-19 pandemics - https://pubmed.ncbi.nlm.nih.gov/34497366/\n",
      "\n",
      "Query: What are the benefits of serological assays in COVID-19?\n",
      "\n",
      "Answer:  The benefits of serological assays are not limited to the detection of COVID-19 infection\n",
      "Top Documents:\n",
      "- Detection technologies and recent developments in the diagnosis of COVID-19 infection (https://pubmed.ncbi.nlm.nih.gov/33394144/)\n",
      "  Snippet: Applied Microbiology and Biotechnology (2021) 105:441–455\n",
      "https://doi.org/10.1007/s00253-020-11061-5\n",
      "MINI-REVIEW\n",
      "Detection technologies and recent developments in the diagnosis\n",
      "of COVID-19 infection\n",
      "P\n",
      "\n",
      "- Effectiveness of COVID-19 diagnosis and management tools: A review (https://pubmed.ncbi.nlm.nih.gov/33008761/)\n",
      "  Snippet: Radiography27(2021)682e687\n",
      "ContentslistsavailableatScienceDirect\n",
      "Radiography\n",
      "journal homepage: www.elsevier.com/locate/radi\n",
      "Narrative Review\n",
      "Effectiveness of COVID-19 diagnosis and management tools: A\n",
      "\n",
      "- Integrated control of COVID-19 in resource-poor countries (https://pubmed.ncbi.nlm.nih.gov/32916249/)\n",
      "  Snippet: Editorial\n",
      "Integrated control of COVID-19 in resource-poor countries\n",
      "A R T I C L E I N F O\n",
      "Article history:\n",
      "Received 1 September\n",
      "A\n",
      "2020\n",
      "Keywords:\n",
      "SARS-CoV-2\n",
      "control\n",
      "vaccination\n",
      "diagnostics\n",
      "hygiene\n",
      "ther\n",
      "\n",
      "- Emerging COVID-19 variants and their impact on SARS-CoV-2 diagnosis, therapeutics and vaccines (https://pubmed.ncbi.nlm.nih.gov/35132910/)\n",
      "  Snippet: ANNALSOFMEDICINE\n",
      "2022,VOL.54,NO.1,524–540\n",
      "https://doi.org/10.1080/07853890.2022.2031274\n",
      "REVIEW ARTICLE\n",
      "Emerging COVID-19 variants and their impact on SARS-CoV-2 diagnosis,\n",
      "therapeutics and vaccines\n",
      "Qu\n",
      "\n",
      "- Advancements in detection of SARS-CoV-2 infection for confronting COVID-19 pandemics (https://pubmed.ncbi.nlm.nih.gov/34497366/)\n",
      "  Snippet: www.nature.com/labinvest\n",
      "REVIEW ARTICLE\n",
      "Advancements in detection of SARS-CoV-2 infection for\n",
      "confronting COVID-19 pandemics\n",
      "✉ ✉\n",
      "Yuan Zhou1, LiZhang1, You-Hua Xie1,2 and Jian Wu 1,3,4\n",
      "©TheAuthor(s),un\n",
      "\n"
     ]
    }
   ],
   "source": [
    "query = \"What are the benefits of serological assays in COVID-19?\"\n",
    "print_response(query)"
   ]
  },
  {
   "cell_type": "code",
   "execution_count": 10,
   "metadata": {},
   "outputs": [
    {
     "name": "stdout",
     "output_type": "stream",
     "text": [
      "Response: Based on the following documents, answer the query:\n",
      "Emerging COVID-19 variants and their impact on SARS-CoV-2 diagnosis, therapeutics and vaccines - https://pubmed.ncbi.nlm.nih.gov/35132910/\n",
      "Rapid SARS-CoV-2 antigen detection assay in comparison with real-time RT-PCR assay for laboratory diagnosis of COVID-19 in Thailand - https://pubmed.ncbi.nlm.nih.gov/33187528/\n",
      "Detection technologies and recent developments in the diagnosis of COVID-19 infection - https://pubmed.ncbi.nlm.nih.gov/33394144/\n",
      "Advances in Technology to Address COVID-19 - https://pubmed.ncbi.nlm.nih.gov/33215941/\n",
      "COVID-19 diagnosis â€”A review of current methods - https://pubmed.ncbi.nlm.nih.gov/33126180/\n",
      "\n",
      "Query: COVID-19 Origins\n",
      "\n",
      "Answer: Â COVID-19 is a new type of influenza virus that is not currently recognized as a human influenza virus\n",
      "Top Documents:\n",
      "- Emerging COVID-19 variants and their impact on SARS-CoV-2 diagnosis, therapeutics and vaccines (https://pubmed.ncbi.nlm.nih.gov/35132910/)\n",
      "  Snippet: ANNALSOFMEDICINE\n",
      "2022,VOL.54,NO.1,524–540\n",
      "https://doi.org/10.1080/07853890.2022.2031274\n",
      "REVIEW ARTICLE\n",
      "Emerging COVID-19 variants and their impact on SARS-CoV-2 diagnosis,\n",
      "therapeutics and vaccines\n",
      "Qu\n",
      "\n",
      "- Rapid SARS-CoV-2 antigen detection assay in comparison with real-time RT-PCR assay for laboratory diagnosis of COVID-19 in Thailand (https://pubmed.ncbi.nlm.nih.gov/33187528/)\n",
      "  Snippet: Chaimayo et al. Virol J (2020) 17:177\n",
      "https://doi.org/10.1186/s12985-020-01452-5\n",
      "RESEARCH Open Access\n",
      "Rapid SARS-CoV-2 antigen detection assay\n",
      "in comparison with real-time RT-PCR assay\n",
      "for laboratory \n",
      "\n",
      "- Detection technologies and recent developments in the diagnosis of COVID-19 infection (https://pubmed.ncbi.nlm.nih.gov/33394144/)\n",
      "  Snippet: Applied Microbiology and Biotechnology (2021) 105:441–455\n",
      "https://doi.org/10.1007/s00253-020-11061-5\n",
      "MINI-REVIEW\n",
      "Detection technologies and recent developments in the diagnosis\n",
      "of COVID-19 infection\n",
      "P\n",
      "\n",
      "- Advances in Technology to Address COVID-19 (https://pubmed.ncbi.nlm.nih.gov/33215941/)\n",
      "  Snippet: 969634\n",
      "editorial2020 JLAXXX10.1177/2472630320969634SLAS TechnologyChow et al.\n",
      "Editorial\n",
      "SLAS Technology\n",
      "Advances in Technology to 2020, Vol. 25(6) 511 –512\n",
      "© Society for Laboratory\n",
      "Automation and Scre\n",
      "\n",
      "- COVID-19 diagnosis â€”A review of current methods (https://pubmed.ncbi.nlm.nih.gov/33126180/)\n",
      "  Snippet: BiosensorsandBioelectronics172(2021)112752\n",
      "Contents lists available at ScienceDirect\n",
      "Biosensors and Bioelectronics\n",
      "journal homepage: http://www.elsevier.com/locate/bios\n",
      "COVID-19 diagnosis —A review of\n",
      "\n"
     ]
    }
   ],
   "source": [
    "query = \"COVID-19 Origins\"\n",
    "print_response(query)"
   ]
  }
 ],
 "metadata": {
  "kernelspec": {
   "display_name": "Python 3",
   "language": "python",
   "name": "python3"
  },
  "language_info": {
   "codemirror_mode": {
    "name": "ipython",
    "version": 3
   },
   "file_extension": ".py",
   "mimetype": "text/x-python",
   "name": "python",
   "nbconvert_exporter": "python",
   "pygments_lexer": "ipython3",
   "version": "3.8.1"
  }
 },
 "nbformat": 4,
 "nbformat_minor": 2
}
